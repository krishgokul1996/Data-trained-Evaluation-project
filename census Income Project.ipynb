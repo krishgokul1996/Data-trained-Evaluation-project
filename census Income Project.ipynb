{
 "cells": [
  {
   "cell_type": "code",
   "execution_count": 1,
   "metadata": {},
   "outputs": [],
   "source": [
    "import pandas as pd\n",
    "import numpy as np\n",
    "import matplotlib.pyplot as plt\n",
    "%matplotlib inline\n",
    "import seaborn as sn\n",
    "import warnings\n",
    "warnings.filterwarnings('ignore')"
   ]
  },
  {
   "cell_type": "code",
   "execution_count": 2,
   "metadata": {},
   "outputs": [
    {
     "data": {
      "text/html": [
       "<div>\n",
       "<style scoped>\n",
       "    .dataframe tbody tr th:only-of-type {\n",
       "        vertical-align: middle;\n",
       "    }\n",
       "\n",
       "    .dataframe tbody tr th {\n",
       "        vertical-align: top;\n",
       "    }\n",
       "\n",
       "    .dataframe thead th {\n",
       "        text-align: right;\n",
       "    }\n",
       "</style>\n",
       "<table border=\"1\" class=\"dataframe\">\n",
       "  <thead>\n",
       "    <tr style=\"text-align: right;\">\n",
       "      <th></th>\n",
       "      <th>Age</th>\n",
       "      <th>Workclass</th>\n",
       "      <th>Fnlwgt</th>\n",
       "      <th>Education</th>\n",
       "      <th>Education_num</th>\n",
       "      <th>Marital_status</th>\n",
       "      <th>Occupation</th>\n",
       "      <th>Relationship</th>\n",
       "      <th>Race</th>\n",
       "      <th>Sex</th>\n",
       "      <th>Capital_gain</th>\n",
       "      <th>Capital_loss</th>\n",
       "      <th>Hours_per_week</th>\n",
       "      <th>Native_country</th>\n",
       "      <th>Income</th>\n",
       "    </tr>\n",
       "  </thead>\n",
       "  <tbody>\n",
       "    <tr>\n",
       "      <th>0</th>\n",
       "      <td>50</td>\n",
       "      <td>Self-emp-not-inc</td>\n",
       "      <td>83311</td>\n",
       "      <td>Bachelors</td>\n",
       "      <td>13</td>\n",
       "      <td>Married-civ-spouse</td>\n",
       "      <td>Exec-managerial</td>\n",
       "      <td>Husband</td>\n",
       "      <td>White</td>\n",
       "      <td>Male</td>\n",
       "      <td>0</td>\n",
       "      <td>0</td>\n",
       "      <td>13</td>\n",
       "      <td>United-States</td>\n",
       "      <td>&lt;=50K</td>\n",
       "    </tr>\n",
       "    <tr>\n",
       "      <th>1</th>\n",
       "      <td>38</td>\n",
       "      <td>Private</td>\n",
       "      <td>215646</td>\n",
       "      <td>HS-grad</td>\n",
       "      <td>9</td>\n",
       "      <td>Divorced</td>\n",
       "      <td>Handlers-cleaners</td>\n",
       "      <td>Not-in-family</td>\n",
       "      <td>White</td>\n",
       "      <td>Male</td>\n",
       "      <td>0</td>\n",
       "      <td>0</td>\n",
       "      <td>40</td>\n",
       "      <td>United-States</td>\n",
       "      <td>&lt;=50K</td>\n",
       "    </tr>\n",
       "    <tr>\n",
       "      <th>2</th>\n",
       "      <td>53</td>\n",
       "      <td>Private</td>\n",
       "      <td>234721</td>\n",
       "      <td>11th</td>\n",
       "      <td>7</td>\n",
       "      <td>Married-civ-spouse</td>\n",
       "      <td>Handlers-cleaners</td>\n",
       "      <td>Husband</td>\n",
       "      <td>Black</td>\n",
       "      <td>Male</td>\n",
       "      <td>0</td>\n",
       "      <td>0</td>\n",
       "      <td>40</td>\n",
       "      <td>United-States</td>\n",
       "      <td>&lt;=50K</td>\n",
       "    </tr>\n",
       "    <tr>\n",
       "      <th>3</th>\n",
       "      <td>28</td>\n",
       "      <td>Private</td>\n",
       "      <td>338409</td>\n",
       "      <td>Bachelors</td>\n",
       "      <td>13</td>\n",
       "      <td>Married-civ-spouse</td>\n",
       "      <td>Prof-specialty</td>\n",
       "      <td>Wife</td>\n",
       "      <td>Black</td>\n",
       "      <td>Female</td>\n",
       "      <td>0</td>\n",
       "      <td>0</td>\n",
       "      <td>40</td>\n",
       "      <td>Cuba</td>\n",
       "      <td>&lt;=50K</td>\n",
       "    </tr>\n",
       "    <tr>\n",
       "      <th>4</th>\n",
       "      <td>37</td>\n",
       "      <td>Private</td>\n",
       "      <td>284582</td>\n",
       "      <td>Masters</td>\n",
       "      <td>14</td>\n",
       "      <td>Married-civ-spouse</td>\n",
       "      <td>Exec-managerial</td>\n",
       "      <td>Wife</td>\n",
       "      <td>White</td>\n",
       "      <td>Female</td>\n",
       "      <td>0</td>\n",
       "      <td>0</td>\n",
       "      <td>40</td>\n",
       "      <td>United-States</td>\n",
       "      <td>&lt;=50K</td>\n",
       "    </tr>\n",
       "  </tbody>\n",
       "</table>\n",
       "</div>"
      ],
      "text/plain": [
       "   Age          Workclass  Fnlwgt   Education  Education_num  \\\n",
       "0   50   Self-emp-not-inc   83311   Bachelors             13   \n",
       "1   38            Private  215646     HS-grad              9   \n",
       "2   53            Private  234721        11th              7   \n",
       "3   28            Private  338409   Bachelors             13   \n",
       "4   37            Private  284582     Masters             14   \n",
       "\n",
       "        Marital_status          Occupation    Relationship    Race      Sex  \\\n",
       "0   Married-civ-spouse     Exec-managerial         Husband   White     Male   \n",
       "1             Divorced   Handlers-cleaners   Not-in-family   White     Male   \n",
       "2   Married-civ-spouse   Handlers-cleaners         Husband   Black     Male   \n",
       "3   Married-civ-spouse      Prof-specialty            Wife   Black   Female   \n",
       "4   Married-civ-spouse     Exec-managerial            Wife   White   Female   \n",
       "\n",
       "   Capital_gain  Capital_loss  Hours_per_week  Native_country  Income  \n",
       "0             0             0              13   United-States   <=50K  \n",
       "1             0             0              40   United-States   <=50K  \n",
       "2             0             0              40   United-States   <=50K  \n",
       "3             0             0              40            Cuba   <=50K  \n",
       "4             0             0              40   United-States   <=50K  "
      ]
     },
     "execution_count": 2,
     "metadata": {},
     "output_type": "execute_result"
    }
   ],
   "source": [
    "#Importing the dataset\n",
    "df= pd.read_csv(\"census_income.csv\")\n",
    "df.head()"
   ]
  },
  {
   "cell_type": "code",
   "execution_count": 3,
   "metadata": {},
   "outputs": [
    {
     "data": {
      "text/plain": [
       "(32560, 15)"
      ]
     },
     "execution_count": 3,
     "metadata": {},
     "output_type": "execute_result"
    }
   ],
   "source": [
    "df.shape"
   ]
  },
  {
   "cell_type": "code",
   "execution_count": 4,
   "metadata": {},
   "outputs": [
    {
     "data": {
      "text/plain": [
       "Age                int64\n",
       "Workclass         object\n",
       "Fnlwgt             int64\n",
       "Education         object\n",
       "Education_num      int64\n",
       "Marital_status    object\n",
       "Occupation        object\n",
       "Relationship      object\n",
       "Race              object\n",
       "Sex               object\n",
       "Capital_gain       int64\n",
       "Capital_loss       int64\n",
       "Hours_per_week     int64\n",
       "Native_country    object\n",
       "Income            object\n",
       "dtype: object"
      ]
     },
     "execution_count": 4,
     "metadata": {},
     "output_type": "execute_result"
    }
   ],
   "source": [
    "df.dtypes"
   ]
  },
  {
   "cell_type": "code",
   "execution_count": 5,
   "metadata": {},
   "outputs": [
    {
     "data": {
      "text/plain": [
       "Age                  73\n",
       "Workclass             9\n",
       "Fnlwgt            21647\n",
       "Education            16\n",
       "Education_num        16\n",
       "Marital_status        7\n",
       "Occupation           15\n",
       "Relationship          6\n",
       "Race                  5\n",
       "Sex                   2\n",
       "Capital_gain        119\n",
       "Capital_loss         92\n",
       "Hours_per_week       94\n",
       "Native_country       42\n",
       "Income                2\n",
       "dtype: int64"
      ]
     },
     "execution_count": 5,
     "metadata": {},
     "output_type": "execute_result"
    }
   ],
   "source": [
    "df.nunique()"
   ]
  },
  {
   "cell_type": "code",
   "execution_count": 6,
   "metadata": {},
   "outputs": [
    {
     "data": {
      "text/plain": [
       "Age               0\n",
       "Workclass         0\n",
       "Fnlwgt            0\n",
       "Education         0\n",
       "Education_num     0\n",
       "Marital_status    0\n",
       "Occupation        0\n",
       "Relationship      0\n",
       "Race              0\n",
       "Sex               0\n",
       "Capital_gain      0\n",
       "Capital_loss      0\n",
       "Hours_per_week    0\n",
       "Native_country    0\n",
       "Income            0\n",
       "dtype: int64"
      ]
     },
     "execution_count": 6,
     "metadata": {},
     "output_type": "execute_result"
    }
   ],
   "source": [
    "df.isnull().sum()"
   ]
  },
  {
   "cell_type": "markdown",
   "metadata": {},
   "source": [
    "No missing value"
   ]
  },
  {
   "cell_type": "code",
   "execution_count": 7,
   "metadata": {},
   "outputs": [
    {
     "data": {
      "text/plain": [
       " <=50K    24719\n",
       " >50K      7841\n",
       "Name: Income, dtype: int64"
      ]
     },
     "execution_count": 7,
     "metadata": {},
     "output_type": "execute_result"
    }
   ],
   "source": [
    "df['Income'].value_counts()"
   ]
  },
  {
   "cell_type": "code",
   "execution_count": 8,
   "metadata": {},
   "outputs": [],
   "source": [
    "from sklearn.preprocessing import LabelEncoder\n",
    "labelencoder=LabelEncoder()\n",
    "df['Income'] = labelencoder.fit_transform(df['Income'])"
   ]
  },
  {
   "cell_type": "code",
   "execution_count": 9,
   "metadata": {},
   "outputs": [
    {
     "data": {
      "text/plain": [
       "<AxesSubplot:title={'center':'Income count'}, xlabel='Income', ylabel='count'>"
      ]
     },
     "execution_count": 9,
     "metadata": {},
     "output_type": "execute_result"
    },
    {
     "data": {
      "image/png": "[encoded data removed]",
      "text/plain": [
       "<Figure size 720x720 with 1 Axes>"
      ]
     },
     "metadata": {
      "needs_background": "light"
     },
     "output_type": "display_data"
    }
   ],
   "source": [
    "plt.figure(figsize=(10,10))\n",
    "plt.title('Income count')\n",
    "sn.countplot(df['Income'])"
   ]
  },
  {
   "cell_type": "code",
   "execution_count": 10,
   "metadata": {},
   "outputs": [
    {
     "data": {
      "text/plain": [
       "<AxesSubplot:xlabel='Marital_status', ylabel='count'>"
      ]
     },
     "execution_count": 10,
     "metadata": {},
     "output_type": "execute_result"
    },
    {
     "data": {
      "image/png": "[encoded data removed]",
      "text/plain": [
       "<Figure size 1440x720 with 1 Axes>"
      ]
     },
     "metadata": {
      "needs_background": "light"
     },
     "output_type": "display_data"
    }
   ],
   "source": [
    "plt.figure(figsize=(20,10))\n",
    "sn.countplot(data=df, x='Marital_status', hue='Income')"
   ]
  },
  {
   "cell_type": "markdown",
   "metadata": {},
   "source": [
    "We can that Never married people have less than 50k and Married with civilian spouse usually have more income compared to the rest."
   ]
  },
  {
   "cell_type": "code",
   "execution_count": 12,
   "metadata": {},
   "outputs": [
    {
     "data": {
      "text/plain": [
       "<AxesSubplot:xlabel='Sex', ylabel='count'>"
      ]
     },
     "execution_count": 12,
     "metadata": {},
     "output_type": "execute_result"
    },
    {
     "data": {
      "image/png": "[encoded data removed]",
      "text/plain": [
       "<Figure size 720x720 with 1 Axes>"
      ]
     },
     "metadata": {
      "needs_background": "light"
     },
     "output_type": "display_data"
    }
   ],
   "source": [
    "plt.figure(figsize=(10,10))\n",
    "sn.countplot(data=df, x='Sex', hue='Income')"
   ]
  },
  {
   "cell_type": "markdown",
   "metadata": {},
   "source": [
    "There are more men in the dataset and men are more likely to have salary more than 50k compared to female\n",
    "\n",
    "Let us balance the target class by upsampling the minority"
   ]
  },
  {
   "cell_type": "code",
   "execution_count": 14,
   "metadata": {},
   "outputs": [],
   "source": [
    "less_income= df[df.Income==0]\n",
    "more_income = df[df.Income==1]\n",
    "\n",
    "from sklearn.utils import resample\n",
    "#upsampling minority\n",
    "income_upsampled = resample(more_income,\n",
    "                         replace = True,\n",
    "                         n_samples = len(less_income),\n",
    "                         random_state =27)\n",
    "\n",
    "df_upsampled = pd.concat([less_income,income_upsampled])"
   ]
  },
  {
   "cell_type": "code",
   "execution_count": 15,
   "metadata": {},
   "outputs": [
    {
     "data": {
      "text/html": [
       "<div>\n",
       "<style scoped>\n",
       "    .dataframe tbody tr th:only-of-type {\n",
       "        vertical-align: middle;\n",
       "    }\n",
       "\n",
       "    .dataframe tbody tr th {\n",
       "        vertical-align: top;\n",
       "    }\n",
       "\n",
       "    .dataframe thead th {\n",
       "        text-align: right;\n",
       "    }\n",
       "</style>\n",
       "<table border=\"1\" class=\"dataframe\">\n",
       "  <thead>\n",
       "    <tr style=\"text-align: right;\">\n",
       "      <th></th>\n",
       "      <th>Age</th>\n",
       "      <th>Fnlwgt</th>\n",
       "      <th>Education_num</th>\n",
       "      <th>Capital_gain</th>\n",
       "      <th>Capital_loss</th>\n",
       "      <th>Hours_per_week</th>\n",
       "      <th>Income</th>\n",
       "    </tr>\n",
       "  </thead>\n",
       "  <tbody>\n",
       "    <tr>\n",
       "      <th>Age</th>\n",
       "      <td>1.000000</td>\n",
       "      <td>-0.076646</td>\n",
       "      <td>0.036527</td>\n",
       "      <td>0.077674</td>\n",
       "      <td>0.057775</td>\n",
       "      <td>0.068756</td>\n",
       "      <td>0.234039</td>\n",
       "    </tr>\n",
       "    <tr>\n",
       "      <th>Fnlwgt</th>\n",
       "      <td>-0.076646</td>\n",
       "      <td>1.000000</td>\n",
       "      <td>-0.043159</td>\n",
       "      <td>0.000437</td>\n",
       "      <td>-0.010259</td>\n",
       "      <td>-0.018770</td>\n",
       "      <td>-0.009481</td>\n",
       "    </tr>\n",
       "    <tr>\n",
       "      <th>Education_num</th>\n",
       "      <td>0.036527</td>\n",
       "      <td>-0.043159</td>\n",
       "      <td>1.000000</td>\n",
       "      <td>0.122627</td>\n",
       "      <td>0.079932</td>\n",
       "      <td>0.148127</td>\n",
       "      <td>0.335182</td>\n",
       "    </tr>\n",
       "    <tr>\n",
       "      <th>Capital_gain</th>\n",
       "      <td>0.077674</td>\n",
       "      <td>0.000437</td>\n",
       "      <td>0.122627</td>\n",
       "      <td>1.000000</td>\n",
       "      <td>-0.031614</td>\n",
       "      <td>0.078409</td>\n",
       "      <td>0.223333</td>\n",
       "    </tr>\n",
       "    <tr>\n",
       "      <th>Capital_loss</th>\n",
       "      <td>0.057775</td>\n",
       "      <td>-0.010259</td>\n",
       "      <td>0.079932</td>\n",
       "      <td>-0.031614</td>\n",
       "      <td>1.000000</td>\n",
       "      <td>0.054256</td>\n",
       "      <td>0.150523</td>\n",
       "    </tr>\n",
       "    <tr>\n",
       "      <th>Hours_per_week</th>\n",
       "      <td>0.068756</td>\n",
       "      <td>-0.018770</td>\n",
       "      <td>0.148127</td>\n",
       "      <td>0.078409</td>\n",
       "      <td>0.054256</td>\n",
       "      <td>1.000000</td>\n",
       "      <td>0.229690</td>\n",
       "    </tr>\n",
       "    <tr>\n",
       "      <th>Income</th>\n",
       "      <td>0.234039</td>\n",
       "      <td>-0.009481</td>\n",
       "      <td>0.335182</td>\n",
       "      <td>0.223333</td>\n",
       "      <td>0.150523</td>\n",
       "      <td>0.229690</td>\n",
       "      <td>1.000000</td>\n",
       "    </tr>\n",
       "  </tbody>\n",
       "</table>\n",
       "</div>"
      ],
      "text/plain": [
       "                     Age    Fnlwgt  Education_num  Capital_gain  Capital_loss  \\\n",
       "Age             1.000000 -0.076646       0.036527      0.077674      0.057775   \n",
       "Fnlwgt         -0.076646  1.000000      -0.043159      0.000437     -0.010259   \n",
       "Education_num   0.036527 -0.043159       1.000000      0.122627      0.079932   \n",
       "Capital_gain    0.077674  0.000437       0.122627      1.000000     -0.031614   \n",
       "Capital_loss    0.057775 -0.010259       0.079932     -0.031614      1.000000   \n",
       "Hours_per_week  0.068756 -0.018770       0.148127      0.078409      0.054256   \n",
       "Income          0.234039 -0.009481       0.335182      0.223333      0.150523   \n",
       "\n",
       "                Hours_per_week    Income  \n",
       "Age                   0.068756  0.234039  \n",
       "Fnlwgt               -0.018770 -0.009481  \n",
       "Education_num         0.148127  0.335182  \n",
       "Capital_gain          0.078409  0.223333  \n",
       "Capital_loss          0.054256  0.150523  \n",
       "Hours_per_week        1.000000  0.229690  \n",
       "Income                0.229690  1.000000  "
      ]
     },
     "execution_count": 15,
     "metadata": {},
     "output_type": "execute_result"
    }
   ],
   "source": [
    "cor=df.corr()\n",
    "cor"
   ]
  },
  {
   "cell_type": "code",
   "execution_count": 16,
   "metadata": {},
   "outputs": [
    {
     "data": {
      "text/html": [
       "<div>\n",
       "<style scoped>\n",
       "    .dataframe tbody tr th:only-of-type {\n",
       "        vertical-align: middle;\n",
       "    }\n",
       "\n",
       "    .dataframe tbody tr th {\n",
       "        vertical-align: top;\n",
       "    }\n",
       "\n",
       "    .dataframe thead th {\n",
       "        text-align: right;\n",
       "    }\n",
       "</style>\n",
       "<table border=\"1\" class=\"dataframe\">\n",
       "  <thead>\n",
       "    <tr style=\"text-align: right;\">\n",
       "      <th></th>\n",
       "      <th>Age</th>\n",
       "      <th>Workclass</th>\n",
       "      <th>Fnlwgt</th>\n",
       "      <th>Education</th>\n",
       "      <th>Education_num</th>\n",
       "      <th>Marital_status</th>\n",
       "      <th>Occupation</th>\n",
       "      <th>Relationship</th>\n",
       "      <th>Race</th>\n",
       "      <th>Sex</th>\n",
       "      <th>Capital_gain</th>\n",
       "      <th>Capital_loss</th>\n",
       "      <th>Hours_per_week</th>\n",
       "      <th>Native_country</th>\n",
       "      <th>Income</th>\n",
       "    </tr>\n",
       "  </thead>\n",
       "  <tbody>\n",
       "    <tr>\n",
       "      <th>0</th>\n",
       "      <td>50</td>\n",
       "      <td>Self-emp-not-inc</td>\n",
       "      <td>83311</td>\n",
       "      <td>Bachelors</td>\n",
       "      <td>13</td>\n",
       "      <td>Married-civ-spouse</td>\n",
       "      <td>Exec-managerial</td>\n",
       "      <td>Husband</td>\n",
       "      <td>White</td>\n",
       "      <td>Male</td>\n",
       "      <td>0</td>\n",
       "      <td>0</td>\n",
       "      <td>13</td>\n",
       "      <td>United-States</td>\n",
       "      <td>0</td>\n",
       "    </tr>\n",
       "    <tr>\n",
       "      <th>1</th>\n",
       "      <td>38</td>\n",
       "      <td>Private</td>\n",
       "      <td>215646</td>\n",
       "      <td>HS-grad</td>\n",
       "      <td>9</td>\n",
       "      <td>Divorced</td>\n",
       "      <td>Handlers-cleaners</td>\n",
       "      <td>Not-in-family</td>\n",
       "      <td>White</td>\n",
       "      <td>Male</td>\n",
       "      <td>0</td>\n",
       "      <td>0</td>\n",
       "      <td>40</td>\n",
       "      <td>United-States</td>\n",
       "      <td>0</td>\n",
       "    </tr>\n",
       "    <tr>\n",
       "      <th>2</th>\n",
       "      <td>53</td>\n",
       "      <td>Private</td>\n",
       "      <td>234721</td>\n",
       "      <td>11th</td>\n",
       "      <td>7</td>\n",
       "      <td>Married-civ-spouse</td>\n",
       "      <td>Handlers-cleaners</td>\n",
       "      <td>Husband</td>\n",
       "      <td>Black</td>\n",
       "      <td>Male</td>\n",
       "      <td>0</td>\n",
       "      <td>0</td>\n",
       "      <td>40</td>\n",
       "      <td>United-States</td>\n",
       "      <td>0</td>\n",
       "    </tr>\n",
       "    <tr>\n",
       "      <th>3</th>\n",
       "      <td>28</td>\n",
       "      <td>Private</td>\n",
       "      <td>338409</td>\n",
       "      <td>Bachelors</td>\n",
       "      <td>13</td>\n",
       "      <td>Married-civ-spouse</td>\n",
       "      <td>Prof-specialty</td>\n",
       "      <td>Wife</td>\n",
       "      <td>Black</td>\n",
       "      <td>Female</td>\n",
       "      <td>0</td>\n",
       "      <td>0</td>\n",
       "      <td>40</td>\n",
       "      <td>Cuba</td>\n",
       "      <td>0</td>\n",
       "    </tr>\n",
       "    <tr>\n",
       "      <th>4</th>\n",
       "      <td>37</td>\n",
       "      <td>Private</td>\n",
       "      <td>284582</td>\n",
       "      <td>Masters</td>\n",
       "      <td>14</td>\n",
       "      <td>Married-civ-spouse</td>\n",
       "      <td>Exec-managerial</td>\n",
       "      <td>Wife</td>\n",
       "      <td>White</td>\n",
       "      <td>Female</td>\n",
       "      <td>0</td>\n",
       "      <td>0</td>\n",
       "      <td>40</td>\n",
       "      <td>United-States</td>\n",
       "      <td>0</td>\n",
       "    </tr>\n",
       "  </tbody>\n",
       "</table>\n",
       "</div>"
      ],
      "text/plain": [
       "   Age          Workclass  Fnlwgt   Education  Education_num  \\\n",
       "0   50   Self-emp-not-inc   83311   Bachelors             13   \n",
       "1   38            Private  215646     HS-grad              9   \n",
       "2   53            Private  234721        11th              7   \n",
       "3   28            Private  338409   Bachelors             13   \n",
       "4   37            Private  284582     Masters             14   \n",
       "\n",
       "        Marital_status          Occupation    Relationship    Race      Sex  \\\n",
       "0   Married-civ-spouse     Exec-managerial         Husband   White     Male   \n",
       "1             Divorced   Handlers-cleaners   Not-in-family   White     Male   \n",
       "2   Married-civ-spouse   Handlers-cleaners         Husband   Black     Male   \n",
       "3   Married-civ-spouse      Prof-specialty            Wife   Black   Female   \n",
       "4   Married-civ-spouse     Exec-managerial            Wife   White   Female   \n",
       "\n",
       "   Capital_gain  Capital_loss  Hours_per_week  Native_country  Income  \n",
       "0             0             0              13   United-States       0  \n",
       "1             0             0              40   United-States       0  \n",
       "2             0             0              40   United-States       0  \n",
       "3             0             0              40            Cuba       0  \n",
       "4             0             0              40   United-States       0  "
      ]
     },
     "execution_count": 16,
     "metadata": {},
     "output_type": "execute_result"
    }
   ],
   "source": [
    "df_upsampled.head()"
   ]
  },
  {
   "cell_type": "code",
   "execution_count": 17,
   "metadata": {},
   "outputs": [
    {
     "data": {
      "text/plain": [
       "<AxesSubplot:xlabel='Race', ylabel='count'>"
      ]
     },
     "execution_count": 17,
     "metadata": {},
     "output_type": "execute_result"
    },
    {
     "data": {
      "image/png": "[encoded data removed]",
      "text/plain": [
       "<Figure size 720x720 with 1 Axes>"
      ]
     },
     "metadata": {
      "needs_background": "light"
     },
     "output_type": "display_data"
    }
   ],
   "source": [
    "plt.figure(figsize=(10,10))\n",
    "sn.countplot(data=df_upsampled, x='Race', hue='Income')"
   ]
  },
  {
   "cell_type": "code",
   "execution_count": 18,
   "metadata": {},
   "outputs": [
    {
     "data": {
      "text/plain": [
       "Age                int64\n",
       "Workclass         object\n",
       "Fnlwgt             int64\n",
       "Education         object\n",
       "Education_num      int64\n",
       "Marital_status    object\n",
       "Occupation        object\n",
       "Relationship      object\n",
       "Race              object\n",
       "Sex               object\n",
       "Capital_gain       int64\n",
       "Capital_loss       int64\n",
       "Hours_per_week     int64\n",
       "Native_country    object\n",
       "Income             int32\n",
       "dtype: object"
      ]
     },
     "execution_count": 18,
     "metadata": {},
     "output_type": "execute_result"
    }
   ],
   "source": [
    "df_upsampled.dtypes"
   ]
  },
  {
   "cell_type": "code",
   "execution_count": 19,
   "metadata": {},
   "outputs": [
    {
     "data": {
      "text/html": [
       "<div>\n",
       "<style scoped>\n",
       "    .dataframe tbody tr th:only-of-type {\n",
       "        vertical-align: middle;\n",
       "    }\n",
       "\n",
       "    .dataframe tbody tr th {\n",
       "        vertical-align: top;\n",
       "    }\n",
       "\n",
       "    .dataframe thead th {\n",
       "        text-align: right;\n",
       "    }\n",
       "</style>\n",
       "<table border=\"1\" class=\"dataframe\">\n",
       "  <thead>\n",
       "    <tr style=\"text-align: right;\">\n",
       "      <th></th>\n",
       "      <th>Age</th>\n",
       "      <th>Workclass</th>\n",
       "      <th>Fnlwgt</th>\n",
       "      <th>Education</th>\n",
       "      <th>Education_num</th>\n",
       "      <th>Marital_status</th>\n",
       "      <th>Occupation</th>\n",
       "      <th>Relationship</th>\n",
       "      <th>Race</th>\n",
       "      <th>Sex</th>\n",
       "      <th>Capital_gain</th>\n",
       "      <th>Capital_loss</th>\n",
       "      <th>Hours_per_week</th>\n",
       "      <th>Native_country</th>\n",
       "      <th>Income</th>\n",
       "    </tr>\n",
       "  </thead>\n",
       "  <tbody>\n",
       "    <tr>\n",
       "      <th>0</th>\n",
       "      <td>50</td>\n",
       "      <td>6</td>\n",
       "      <td>83311</td>\n",
       "      <td>9</td>\n",
       "      <td>13</td>\n",
       "      <td>2</td>\n",
       "      <td>4</td>\n",
       "      <td>0</td>\n",
       "      <td>4</td>\n",
       "      <td>1</td>\n",
       "      <td>0</td>\n",
       "      <td>0</td>\n",
       "      <td>13</td>\n",
       "      <td>39</td>\n",
       "      <td>0</td>\n",
       "    </tr>\n",
       "    <tr>\n",
       "      <th>1</th>\n",
       "      <td>38</td>\n",
       "      <td>4</td>\n",
       "      <td>215646</td>\n",
       "      <td>11</td>\n",
       "      <td>9</td>\n",
       "      <td>0</td>\n",
       "      <td>6</td>\n",
       "      <td>1</td>\n",
       "      <td>4</td>\n",
       "      <td>1</td>\n",
       "      <td>0</td>\n",
       "      <td>0</td>\n",
       "      <td>40</td>\n",
       "      <td>39</td>\n",
       "      <td>0</td>\n",
       "    </tr>\n",
       "    <tr>\n",
       "      <th>2</th>\n",
       "      <td>53</td>\n",
       "      <td>4</td>\n",
       "      <td>234721</td>\n",
       "      <td>1</td>\n",
       "      <td>7</td>\n",
       "      <td>2</td>\n",
       "      <td>6</td>\n",
       "      <td>0</td>\n",
       "      <td>2</td>\n",
       "      <td>1</td>\n",
       "      <td>0</td>\n",
       "      <td>0</td>\n",
       "      <td>40</td>\n",
       "      <td>39</td>\n",
       "      <td>0</td>\n",
       "    </tr>\n",
       "    <tr>\n",
       "      <th>3</th>\n",
       "      <td>28</td>\n",
       "      <td>4</td>\n",
       "      <td>338409</td>\n",
       "      <td>9</td>\n",
       "      <td>13</td>\n",
       "      <td>2</td>\n",
       "      <td>10</td>\n",
       "      <td>5</td>\n",
       "      <td>2</td>\n",
       "      <td>0</td>\n",
       "      <td>0</td>\n",
       "      <td>0</td>\n",
       "      <td>40</td>\n",
       "      <td>5</td>\n",
       "      <td>0</td>\n",
       "    </tr>\n",
       "    <tr>\n",
       "      <th>4</th>\n",
       "      <td>37</td>\n",
       "      <td>4</td>\n",
       "      <td>284582</td>\n",
       "      <td>12</td>\n",
       "      <td>14</td>\n",
       "      <td>2</td>\n",
       "      <td>4</td>\n",
       "      <td>5</td>\n",
       "      <td>4</td>\n",
       "      <td>0</td>\n",
       "      <td>0</td>\n",
       "      <td>0</td>\n",
       "      <td>40</td>\n",
       "      <td>39</td>\n",
       "      <td>0</td>\n",
       "    </tr>\n",
       "    <tr>\n",
       "      <th>...</th>\n",
       "      <td>...</td>\n",
       "      <td>...</td>\n",
       "      <td>...</td>\n",
       "      <td>...</td>\n",
       "      <td>...</td>\n",
       "      <td>...</td>\n",
       "      <td>...</td>\n",
       "      <td>...</td>\n",
       "      <td>...</td>\n",
       "      <td>...</td>\n",
       "      <td>...</td>\n",
       "      <td>...</td>\n",
       "      <td>...</td>\n",
       "      <td>...</td>\n",
       "      <td>...</td>\n",
       "    </tr>\n",
       "    <tr>\n",
       "      <th>5881</th>\n",
       "      <td>36</td>\n",
       "      <td>4</td>\n",
       "      <td>261382</td>\n",
       "      <td>12</td>\n",
       "      <td>14</td>\n",
       "      <td>2</td>\n",
       "      <td>12</td>\n",
       "      <td>0</td>\n",
       "      <td>4</td>\n",
       "      <td>1</td>\n",
       "      <td>15024</td>\n",
       "      <td>0</td>\n",
       "      <td>45</td>\n",
       "      <td>39</td>\n",
       "      <td>1</td>\n",
       "    </tr>\n",
       "    <tr>\n",
       "      <th>27643</th>\n",
       "      <td>56</td>\n",
       "      <td>2</td>\n",
       "      <td>273084</td>\n",
       "      <td>12</td>\n",
       "      <td>14</td>\n",
       "      <td>2</td>\n",
       "      <td>4</td>\n",
       "      <td>0</td>\n",
       "      <td>2</td>\n",
       "      <td>1</td>\n",
       "      <td>0</td>\n",
       "      <td>0</td>\n",
       "      <td>40</td>\n",
       "      <td>39</td>\n",
       "      <td>1</td>\n",
       "    </tr>\n",
       "    <tr>\n",
       "      <th>12382</th>\n",
       "      <td>45</td>\n",
       "      <td>4</td>\n",
       "      <td>199058</td>\n",
       "      <td>12</td>\n",
       "      <td>14</td>\n",
       "      <td>2</td>\n",
       "      <td>4</td>\n",
       "      <td>0</td>\n",
       "      <td>4</td>\n",
       "      <td>1</td>\n",
       "      <td>7298</td>\n",
       "      <td>0</td>\n",
       "      <td>50</td>\n",
       "      <td>39</td>\n",
       "      <td>1</td>\n",
       "    </tr>\n",
       "    <tr>\n",
       "      <th>14815</th>\n",
       "      <td>39</td>\n",
       "      <td>4</td>\n",
       "      <td>165235</td>\n",
       "      <td>9</td>\n",
       "      <td>13</td>\n",
       "      <td>5</td>\n",
       "      <td>10</td>\n",
       "      <td>4</td>\n",
       "      <td>1</td>\n",
       "      <td>0</td>\n",
       "      <td>0</td>\n",
       "      <td>0</td>\n",
       "      <td>40</td>\n",
       "      <td>30</td>\n",
       "      <td>1</td>\n",
       "    </tr>\n",
       "    <tr>\n",
       "      <th>13415</th>\n",
       "      <td>29</td>\n",
       "      <td>4</td>\n",
       "      <td>224215</td>\n",
       "      <td>15</td>\n",
       "      <td>10</td>\n",
       "      <td>2</td>\n",
       "      <td>3</td>\n",
       "      <td>0</td>\n",
       "      <td>4</td>\n",
       "      <td>1</td>\n",
       "      <td>0</td>\n",
       "      <td>0</td>\n",
       "      <td>40</td>\n",
       "      <td>39</td>\n",
       "      <td>1</td>\n",
       "    </tr>\n",
       "  </tbody>\n",
       "</table>\n",
       "<p>49438 rows × 15 columns</p>\n",
       "</div>"
      ],
      "text/plain": [
       "       Age  Workclass  Fnlwgt  Education  Education_num  Marital_status  \\\n",
       "0       50          6   83311          9             13               2   \n",
       "1       38          4  215646         11              9               0   \n",
       "2       53          4  234721          1              7               2   \n",
       "3       28          4  338409          9             13               2   \n",
       "4       37          4  284582         12             14               2   \n",
       "...    ...        ...     ...        ...            ...             ...   \n",
       "5881    36          4  261382         12             14               2   \n",
       "27643   56          2  273084         12             14               2   \n",
       "12382   45          4  199058         12             14               2   \n",
       "14815   39          4  165235          9             13               5   \n",
       "13415   29          4  224215         15             10               2   \n",
       "\n",
       "       Occupation  Relationship  Race  Sex  Capital_gain  Capital_loss  \\\n",
       "0               4             0     4    1             0             0   \n",
       "1               6             1     4    1             0             0   \n",
       "2               6             0     2    1             0             0   \n",
       "3              10             5     2    0             0             0   \n",
       "4               4             5     4    0             0             0   \n",
       "...           ...           ...   ...  ...           ...           ...   \n",
       "5881           12             0     4    1         15024             0   \n",
       "27643           4             0     2    1             0             0   \n",
       "12382           4             0     4    1          7298             0   \n",
       "14815          10             4     1    0             0             0   \n",
       "13415           3             0     4    1             0             0   \n",
       "\n",
       "       Hours_per_week  Native_country  Income  \n",
       "0                  13              39       0  \n",
       "1                  40              39       0  \n",
       "2                  40              39       0  \n",
       "3                  40               5       0  \n",
       "4                  40              39       0  \n",
       "...               ...             ...     ...  \n",
       "5881               45              39       1  \n",
       "27643              40              39       1  \n",
       "12382              50              39       1  \n",
       "14815              40              30       1  \n",
       "13415              40              39       1  \n",
       "\n",
       "[49438 rows x 15 columns]"
      ]
     },
     "execution_count": 19,
     "metadata": {},
     "output_type": "execute_result"
    }
   ],
   "source": [
    "from sklearn.preprocessing import LabelEncoder\n",
    "labelencoder=LabelEncoder()\n",
    "col = ['Workclass','Education','Marital_status','Occupation','Relationship','Race','Sex','Native_country']\n",
    "for i in col:\n",
    "    df_upsampled[i] = labelencoder.fit_transform(df_upsampled[i])\n",
    "df_upsampled"
   ]
  },
  {
   "cell_type": "code",
   "execution_count": 20,
   "metadata": {},
   "outputs": [
    {
     "data": {
      "text/html": [
       "<div>\n",
       "<style scoped>\n",
       "    .dataframe tbody tr th:only-of-type {\n",
       "        vertical-align: middle;\n",
       "    }\n",
       "\n",
       "    .dataframe tbody tr th {\n",
       "        vertical-align: top;\n",
       "    }\n",
       "\n",
       "    .dataframe thead th {\n",
       "        text-align: right;\n",
       "    }\n",
       "</style>\n",
       "<table border=\"1\" class=\"dataframe\">\n",
       "  <thead>\n",
       "    <tr style=\"text-align: right;\">\n",
       "      <th></th>\n",
       "      <th>Age</th>\n",
       "      <th>Workclass</th>\n",
       "      <th>Fnlwgt</th>\n",
       "      <th>Education</th>\n",
       "      <th>Education_num</th>\n",
       "      <th>Marital_status</th>\n",
       "      <th>Occupation</th>\n",
       "      <th>Relationship</th>\n",
       "      <th>Race</th>\n",
       "      <th>Sex</th>\n",
       "      <th>Capital_gain</th>\n",
       "      <th>Capital_loss</th>\n",
       "      <th>Hours_per_week</th>\n",
       "      <th>Native_country</th>\n",
       "      <th>Income</th>\n",
       "    </tr>\n",
       "  </thead>\n",
       "  <tbody>\n",
       "    <tr>\n",
       "      <th>Age</th>\n",
       "      <td>1.000000</td>\n",
       "      <td>0.003759</td>\n",
       "      <td>-0.073990</td>\n",
       "      <td>0.012977</td>\n",
       "      <td>0.079300</td>\n",
       "      <td>-0.254147</td>\n",
       "      <td>-0.019229</td>\n",
       "      <td>-0.253827</td>\n",
       "      <td>0.049008</td>\n",
       "      <td>0.124748</td>\n",
       "      <td>0.082821</td>\n",
       "      <td>0.067811</td>\n",
       "      <td>0.058702</td>\n",
       "      <td>0.002425</td>\n",
       "      <td>0.294437</td>\n",
       "    </tr>\n",
       "    <tr>\n",
       "      <th>Workclass</th>\n",
       "      <td>0.003759</td>\n",
       "      <td>1.000000</td>\n",
       "      <td>-0.015810</td>\n",
       "      <td>0.023617</td>\n",
       "      <td>0.055085</td>\n",
       "      <td>-0.056213</td>\n",
       "      <td>0.223980</td>\n",
       "      <td>-0.083810</td>\n",
       "      <td>0.046892</td>\n",
       "      <td>0.094595</td>\n",
       "      <td>0.048638</td>\n",
       "      <td>0.024868</td>\n",
       "      <td>0.133475</td>\n",
       "      <td>-0.010282</td>\n",
       "      <td>0.059882</td>\n",
       "    </tr>\n",
       "    <tr>\n",
       "      <th>Fnlwgt</th>\n",
       "      <td>-0.073990</td>\n",
       "      <td>-0.015810</td>\n",
       "      <td>1.000000</td>\n",
       "      <td>-0.015102</td>\n",
       "      <td>-0.030802</td>\n",
       "      <td>0.022692</td>\n",
       "      <td>0.007815</td>\n",
       "      <td>0.001414</td>\n",
       "      <td>-0.019793</td>\n",
       "      <td>0.026771</td>\n",
       "      <td>0.004367</td>\n",
       "      <td>-0.012175</td>\n",
       "      <td>-0.007790</td>\n",
       "      <td>-0.039504</td>\n",
       "      <td>-0.011921</td>\n",
       "    </tr>\n",
       "    <tr>\n",
       "      <th>Education</th>\n",
       "      <td>0.012977</td>\n",
       "      <td>0.023617</td>\n",
       "      <td>-0.015102</td>\n",
       "      <td>1.000000</td>\n",
       "      <td>0.287262</td>\n",
       "      <td>-0.048468</td>\n",
       "      <td>-0.009137</td>\n",
       "      <td>-0.027306</td>\n",
       "      <td>0.021048</td>\n",
       "      <td>-0.003699</td>\n",
       "      <td>0.038064</td>\n",
       "      <td>0.013405</td>\n",
       "      <td>0.059445</td>\n",
       "      <td>0.056959</td>\n",
       "      <td>0.101311</td>\n",
       "    </tr>\n",
       "    <tr>\n",
       "      <th>Education_num</th>\n",
       "      <td>0.079300</td>\n",
       "      <td>0.055085</td>\n",
       "      <td>-0.030802</td>\n",
       "      <td>0.287262</td>\n",
       "      <td>1.000000</td>\n",
       "      <td>-0.094152</td>\n",
       "      <td>0.124823</td>\n",
       "      <td>-0.114985</td>\n",
       "      <td>0.041298</td>\n",
       "      <td>0.052007</td>\n",
       "      <td>0.139771</td>\n",
       "      <td>0.092112</td>\n",
       "      <td>0.167622</td>\n",
       "      <td>0.026539</td>\n",
       "      <td>0.381112</td>\n",
       "    </tr>\n",
       "    <tr>\n",
       "      <th>Marital_status</th>\n",
       "      <td>-0.254147</td>\n",
       "      <td>-0.056213</td>\n",
       "      <td>0.022692</td>\n",
       "      <td>-0.048468</td>\n",
       "      <td>-0.094152</td>\n",
       "      <td>1.000000</td>\n",
       "      <td>-0.012458</td>\n",
       "      <td>0.175591</td>\n",
       "      <td>-0.063563</td>\n",
       "      <td>-0.144565</td>\n",
       "      <td>-0.043097</td>\n",
       "      <td>-0.036665</td>\n",
       "      <td>-0.185261</td>\n",
       "      <td>-0.024639</td>\n",
       "      <td>-0.262534</td>\n",
       "    </tr>\n",
       "    <tr>\n",
       "      <th>Occupation</th>\n",
       "      <td>-0.019229</td>\n",
       "      <td>0.223980</td>\n",
       "      <td>0.007815</td>\n",
       "      <td>-0.009137</td>\n",
       "      <td>0.124823</td>\n",
       "      <td>-0.012458</td>\n",
       "      <td>1.000000</td>\n",
       "      <td>-0.081779</td>\n",
       "      <td>0.012388</td>\n",
       "      <td>0.083689</td>\n",
       "      <td>0.029842</td>\n",
       "      <td>0.014721</td>\n",
       "      <td>0.087191</td>\n",
       "      <td>-0.005724</td>\n",
       "      <td>0.084120</td>\n",
       "    </tr>\n",
       "    <tr>\n",
       "      <th>Relationship</th>\n",
       "      <td>-0.253827</td>\n",
       "      <td>-0.083810</td>\n",
       "      <td>0.001414</td>\n",
       "      <td>-0.027306</td>\n",
       "      <td>-0.114985</td>\n",
       "      <td>0.175591</td>\n",
       "      <td>-0.081779</td>\n",
       "      <td>1.000000</td>\n",
       "      <td>-0.115579</td>\n",
       "      <td>-0.660246</td>\n",
       "      <td>-0.057433</td>\n",
       "      <td>-0.062404</td>\n",
       "      <td>-0.261469</td>\n",
       "      <td>-0.016035</td>\n",
       "      <td>-0.284680</td>\n",
       "    </tr>\n",
       "    <tr>\n",
       "      <th>Race</th>\n",
       "      <td>0.049008</td>\n",
       "      <td>0.046892</td>\n",
       "      <td>-0.019793</td>\n",
       "      <td>0.021048</td>\n",
       "      <td>0.041298</td>\n",
       "      <td>-0.063563</td>\n",
       "      <td>0.012388</td>\n",
       "      <td>-0.115579</td>\n",
       "      <td>1.000000</td>\n",
       "      <td>0.093736</td>\n",
       "      <td>0.009123</td>\n",
       "      <td>0.025992</td>\n",
       "      <td>0.048587</td>\n",
       "      <td>0.162244</td>\n",
       "      <td>0.092237</td>\n",
       "    </tr>\n",
       "    <tr>\n",
       "      <th>Sex</th>\n",
       "      <td>0.124748</td>\n",
       "      <td>0.094595</td>\n",
       "      <td>0.026771</td>\n",
       "      <td>-0.003699</td>\n",
       "      <td>0.052007</td>\n",
       "      <td>-0.144565</td>\n",
       "      <td>0.083689</td>\n",
       "      <td>-0.660246</td>\n",
       "      <td>0.093736</td>\n",
       "      <td>1.000000</td>\n",
       "      <td>0.052634</td>\n",
       "      <td>0.055493</td>\n",
       "      <td>0.246703</td>\n",
       "      <td>-0.001679</td>\n",
       "      <td>0.266001</td>\n",
       "    </tr>\n",
       "    <tr>\n",
       "      <th>Capital_gain</th>\n",
       "      <td>0.082821</td>\n",
       "      <td>0.048638</td>\n",
       "      <td>0.004367</td>\n",
       "      <td>0.038064</td>\n",
       "      <td>0.139771</td>\n",
       "      <td>-0.043097</td>\n",
       "      <td>0.029842</td>\n",
       "      <td>-0.057433</td>\n",
       "      <td>0.009123</td>\n",
       "      <td>0.052634</td>\n",
       "      <td>1.000000</td>\n",
       "      <td>-0.051708</td>\n",
       "      <td>0.092755</td>\n",
       "      <td>-0.003058</td>\n",
       "      <td>0.183581</td>\n",
       "    </tr>\n",
       "    <tr>\n",
       "      <th>Capital_loss</th>\n",
       "      <td>0.067811</td>\n",
       "      <td>0.024868</td>\n",
       "      <td>-0.012175</td>\n",
       "      <td>0.013405</td>\n",
       "      <td>0.092112</td>\n",
       "      <td>-0.036665</td>\n",
       "      <td>0.014721</td>\n",
       "      <td>-0.062404</td>\n",
       "      <td>0.025992</td>\n",
       "      <td>0.055493</td>\n",
       "      <td>-0.051708</td>\n",
       "      <td>1.000000</td>\n",
       "      <td>0.061613</td>\n",
       "      <td>0.002759</td>\n",
       "      <td>0.153125</td>\n",
       "    </tr>\n",
       "    <tr>\n",
       "      <th>Hours_per_week</th>\n",
       "      <td>0.058702</td>\n",
       "      <td>0.133475</td>\n",
       "      <td>-0.007790</td>\n",
       "      <td>0.059445</td>\n",
       "      <td>0.167622</td>\n",
       "      <td>-0.185261</td>\n",
       "      <td>0.087191</td>\n",
       "      <td>-0.261469</td>\n",
       "      <td>0.048587</td>\n",
       "      <td>0.246703</td>\n",
       "      <td>0.092755</td>\n",
       "      <td>0.061613</td>\n",
       "      <td>1.000000</td>\n",
       "      <td>0.010267</td>\n",
       "      <td>0.276447</td>\n",
       "    </tr>\n",
       "    <tr>\n",
       "      <th>Native_country</th>\n",
       "      <td>0.002425</td>\n",
       "      <td>-0.010282</td>\n",
       "      <td>-0.039504</td>\n",
       "      <td>0.056959</td>\n",
       "      <td>0.026539</td>\n",
       "      <td>-0.024639</td>\n",
       "      <td>-0.005724</td>\n",
       "      <td>-0.016035</td>\n",
       "      <td>0.162244</td>\n",
       "      <td>-0.001679</td>\n",
       "      <td>-0.003058</td>\n",
       "      <td>0.002759</td>\n",
       "      <td>0.010267</td>\n",
       "      <td>1.000000</td>\n",
       "      <td>0.022012</td>\n",
       "    </tr>\n",
       "    <tr>\n",
       "      <th>Income</th>\n",
       "      <td>0.294437</td>\n",
       "      <td>0.059882</td>\n",
       "      <td>-0.011921</td>\n",
       "      <td>0.101311</td>\n",
       "      <td>0.381112</td>\n",
       "      <td>-0.262534</td>\n",
       "      <td>0.084120</td>\n",
       "      <td>-0.284680</td>\n",
       "      <td>0.092237</td>\n",
       "      <td>0.266001</td>\n",
       "      <td>0.183581</td>\n",
       "      <td>0.153125</td>\n",
       "      <td>0.276447</td>\n",
       "      <td>0.022012</td>\n",
       "      <td>1.000000</td>\n",
       "    </tr>\n",
       "  </tbody>\n",
       "</table>\n",
       "</div>"
      ],
      "text/plain": [
       "                     Age  Workclass    Fnlwgt  Education  Education_num  \\\n",
       "Age             1.000000   0.003759 -0.073990   0.012977       0.079300   \n",
       "Workclass       0.003759   1.000000 -0.015810   0.023617       0.055085   \n",
       "Fnlwgt         -0.073990  -0.015810  1.000000  -0.015102      -0.030802   \n",
       "Education       0.012977   0.023617 -0.015102   1.000000       0.287262   \n",
       "Education_num   0.079300   0.055085 -0.030802   0.287262       1.000000   \n",
       "Marital_status -0.254147  -0.056213  0.022692  -0.048468      -0.094152   \n",
       "Occupation     -0.019229   0.223980  0.007815  -0.009137       0.124823   \n",
       "Relationship   -0.253827  -0.083810  0.001414  -0.027306      -0.114985   \n",
       "Race            0.049008   0.046892 -0.019793   0.021048       0.041298   \n",
       "Sex             0.124748   0.094595  0.026771  -0.003699       0.052007   \n",
       "Capital_gain    0.082821   0.048638  0.004367   0.038064       0.139771   \n",
       "Capital_loss    0.067811   0.024868 -0.012175   0.013405       0.092112   \n",
       "Hours_per_week  0.058702   0.133475 -0.007790   0.059445       0.167622   \n",
       "Native_country  0.002425  -0.010282 -0.039504   0.056959       0.026539   \n",
       "Income          0.294437   0.059882 -0.011921   0.101311       0.381112   \n",
       "\n",
       "                Marital_status  Occupation  Relationship      Race       Sex  \\\n",
       "Age                  -0.254147   -0.019229     -0.253827  0.049008  0.124748   \n",
       "Workclass            -0.056213    0.223980     -0.083810  0.046892  0.094595   \n",
       "Fnlwgt                0.022692    0.007815      0.001414 -0.019793  0.026771   \n",
       "Education            -0.048468   -0.009137     -0.027306  0.021048 -0.003699   \n",
       "Education_num        -0.094152    0.124823     -0.114985  0.041298  0.052007   \n",
       "Marital_status        1.000000   -0.012458      0.175591 -0.063563 -0.144565   \n",
       "Occupation           -0.012458    1.000000     -0.081779  0.012388  0.083689   \n",
       "Relationship          0.175591   -0.081779      1.000000 -0.115579 -0.660246   \n",
       "Race                 -0.063563    0.012388     -0.115579  1.000000  0.093736   \n",
       "Sex                  -0.144565    0.083689     -0.660246  0.093736  1.000000   \n",
       "Capital_gain         -0.043097    0.029842     -0.057433  0.009123  0.052634   \n",
       "Capital_loss         -0.036665    0.014721     -0.062404  0.025992  0.055493   \n",
       "Hours_per_week       -0.185261    0.087191     -0.261469  0.048587  0.246703   \n",
       "Native_country       -0.024639   -0.005724     -0.016035  0.162244 -0.001679   \n",
       "Income               -0.262534    0.084120     -0.284680  0.092237  0.266001   \n",
       "\n",
       "                Capital_gain  Capital_loss  Hours_per_week  Native_country  \\\n",
       "Age                 0.082821      0.067811        0.058702        0.002425   \n",
       "Workclass           0.048638      0.024868        0.133475       -0.010282   \n",
       "Fnlwgt              0.004367     -0.012175       -0.007790       -0.039504   \n",
       "Education           0.038064      0.013405        0.059445        0.056959   \n",
       "Education_num       0.139771      0.092112        0.167622        0.026539   \n",
       "Marital_status     -0.043097     -0.036665       -0.185261       -0.024639   \n",
       "Occupation          0.029842      0.014721        0.087191       -0.005724   \n",
       "Relationship       -0.057433     -0.062404       -0.261469       -0.016035   \n",
       "Race                0.009123      0.025992        0.048587        0.162244   \n",
       "Sex                 0.052634      0.055493        0.246703       -0.001679   \n",
       "Capital_gain        1.000000     -0.051708        0.092755       -0.003058   \n",
       "Capital_loss       -0.051708      1.000000        0.061613        0.002759   \n",
       "Hours_per_week      0.092755      0.061613        1.000000        0.010267   \n",
       "Native_country     -0.003058      0.002759        0.010267        1.000000   \n",
       "Income              0.183581      0.153125        0.276447        0.022012   \n",
       "\n",
       "                  Income  \n",
       "Age             0.294437  \n",
       "Workclass       0.059882  \n",
       "Fnlwgt         -0.011921  \n",
       "Education       0.101311  \n",
       "Education_num   0.381112  \n",
       "Marital_status -0.262534  \n",
       "Occupation      0.084120  \n",
       "Relationship   -0.284680  \n",
       "Race            0.092237  \n",
       "Sex             0.266001  \n",
       "Capital_gain    0.183581  \n",
       "Capital_loss    0.153125  \n",
       "Hours_per_week  0.276447  \n",
       "Native_country  0.022012  \n",
       "Income          1.000000  "
      ]
     },
     "execution_count": 20,
     "metadata": {},
     "output_type": "execute_result"
    }
   ],
   "source": [
    "cor=df_upsampled.corr()\n",
    "cor"
   ]
  },
  {
   "cell_type": "code",
   "execution_count": 21,
   "metadata": {},
   "outputs": [
    {
     "data": {
      "text/plain": [
       "<AxesSubplot:>"
      ]
     },
     "execution_count": 21,
     "metadata": {},
     "output_type": "execute_result"
    },
    {
     "data": {
      "image/png": "[encoded data removed]",
      "text/plain": [
       "<Figure size 1080x720 with 2 Axes>"
      ]
     },
     "metadata": {
      "needs_background": "light"
     },
     "output_type": "display_data"
    }
   ],
   "source": [
    "corr = df_upsampled.corr()\n",
    "hide = np.zeros_like(corr)\n",
    "hide[np.triu_indices_from(hide)] = True\n",
    "plt.figure(figsize=(15, 10))\n",
    "sn.heatmap(corr,\n",
    "            vmax=.5,\n",
    "            mask=hide,\n",
    "            linewidths=.2, cmap=\"coolwarm\")"
   ]
  },
  {
   "cell_type": "code",
   "execution_count": 22,
   "metadata": {},
   "outputs": [
    {
     "data": {
      "text/plain": [
       "<AxesSubplot:>"
      ]
     },
     "execution_count": 22,
     "metadata": {},
     "output_type": "execute_result"
    },
    {
     "data": {
      "image/png": "[encoded data removed]",
      "text/plain": [
       "<Figure size 1440x1440 with 2 Axes>"
      ]
     },
     "metadata": {
      "needs_background": "light"
     },
     "output_type": "display_data"
    }
   ],
   "source": [
    "plt.figure(figsize=(20,20))\n",
    "sn.heatmap(df_upsampled.corr(),annot=True)"
   ]
  },
  {
   "cell_type": "markdown",
   "metadata": {},
   "source": [
    "From the above heatmap we can see that the Income is highly correlated to Marital Status, Relationship, Age and Education."
   ]
  },
  {
   "cell_type": "markdown",
   "metadata": {},
   "source": [
    "# Model Building"
   ]
  },
  {
   "cell_type": "code",
   "execution_count": 23,
   "metadata": {},
   "outputs": [],
   "source": [
    "y = df_upsampled['Income']\n",
    "x = df_upsampled.drop(['Income'],axis = 1)"
   ]
  },
  {
   "cell_type": "code",
   "execution_count": 24,
   "metadata": {},
   "outputs": [
    {
     "data": {
      "text/plain": [
       "array([[ 0.72341619,  1.44459222, -1.01351442, ..., -0.26184657,\n",
       "        -2.39189773,  0.28177617],\n",
       "       [-0.20076045,  0.0602456 ,  0.25431171, ..., -0.26184657,\n",
       "        -0.18149522,  0.28177617],\n",
       "       [ 0.95446035,  0.0602456 ,  0.4370584 , ..., -0.26184657,\n",
       "        -0.18149522,  0.28177617],\n",
       "       ...,\n",
       "       [ 0.33834259,  0.0602456 ,  0.09539155, ..., -0.26184657,\n",
       "         0.63717238,  0.28177617],\n",
       "       [-0.12374573,  0.0602456 , -0.22864732, ..., -0.26184657,\n",
       "        -0.18149522, -0.88116212],\n",
       "       [-0.89389293,  0.0602456 ,  0.33640641, ..., -0.26184657,\n",
       "        -0.18149522,  0.28177617]])"
      ]
     },
     "execution_count": 24,
     "metadata": {},
     "output_type": "execute_result"
    }
   ],
   "source": [
    "from sklearn.preprocessing import StandardScaler\n",
    "scaler = StandardScaler()\n",
    "x_scaled = scaler.fit_transform(x)\n",
    "x_scaled"
   ]
  },
  {
   "cell_type": "code",
   "execution_count": 25,
   "metadata": {},
   "outputs": [
    {
     "name": "stdout",
     "output_type": "stream",
     "text": [
      "Best accuracy is  0.9218446601941748 on random state  158\n"
     ]
    }
   ],
   "source": [
    "from sklearn.model_selection import train_test_split\n",
    "from sklearn.metrics import accuracy_score\n",
    "\n",
    "from sklearn.tree import DecisionTreeClassifier\n",
    "\n",
    "maxaccu =0\n",
    "maxrs = 0\n",
    "for i in range(1,200):\n",
    "    xtrain,xtest,ytrain,ytest=train_test_split(x_scaled,y,test_size=0.25,random_state=i)\n",
    "    mod = DecisionTreeClassifier()\n",
    "    mod.fit(xtrain,ytrain)\n",
    "    pred = mod.predict(xtest)\n",
    "    acc = accuracy_score(ytest,pred)\n",
    "    if acc>maxaccu:\n",
    "        maxaccu=acc\n",
    "        maxrs =i\n",
    "print(\"Best accuracy is \",maxaccu,\"on random state \",maxrs)"
   ]
  },
  {
   "cell_type": "code",
   "execution_count": 26,
   "metadata": {},
   "outputs": [],
   "source": [
    "X_train, X_test, y_train, y_test = train_test_split(x_scaled, y, test_size=.25, random_state=maxrs)"
   ]
  },
  {
   "cell_type": "code",
   "execution_count": 27,
   "metadata": {},
   "outputs": [],
   "source": [
    "from sklearn.neighbors import KNeighborsClassifier\n",
    "from sklearn.linear_model import LogisticRegression\n",
    "from sklearn.svm import SVC\n",
    "from sklearn.tree import DecisionTreeClassifier\n",
    "from sklearn.ensemble import RandomForestClassifier\n",
    "from sklearn.metrics import classification_report\n",
    "from sklearn.metrics import accuracy_score"
   ]
  },
  {
   "cell_type": "code",
   "execution_count": 28,
   "metadata": {},
   "outputs": [
    {
     "name": "stdout",
     "output_type": "stream",
     "text": [
      "              precision    recall  f1-score   support\n",
      "\n",
      "           0       0.97      0.87      0.92      6131\n",
      "           1       0.88      0.97      0.93      6229\n",
      "\n",
      "    accuracy                           0.92     12360\n",
      "   macro avg       0.93      0.92      0.92     12360\n",
      "weighted avg       0.93      0.92      0.92     12360\n",
      "\n"
     ]
    }
   ],
   "source": [
    "dtc = DecisionTreeClassifier()\n",
    "dtc.fit(X_train,y_train)\n",
    "y_pred = dtc.predict(X_test)\n",
    "acc = classification_report(y_test,y_pred)\n",
    "print(acc)"
   ]
  },
  {
   "cell_type": "code",
   "execution_count": 29,
   "metadata": {},
   "outputs": [
    {
     "data": {
      "text/plain": [
       "array([[5334,  797],\n",
       "       [ 174, 6055]], dtype=int64)"
      ]
     },
     "execution_count": 29,
     "metadata": {},
     "output_type": "execute_result"
    }
   ],
   "source": [
    "from sklearn.metrics import confusion_matrix\n",
    "confusion_matrix(y_test,y_pred)"
   ]
  },
  {
   "cell_type": "code",
   "execution_count": 30,
   "metadata": {},
   "outputs": [
    {
     "name": "stdout",
     "output_type": "stream",
     "text": [
      "              precision    recall  f1-score   support\n",
      "\n",
      "           0       0.87      0.78      0.82      6131\n",
      "           1       0.80      0.89      0.84      6229\n",
      "\n",
      "    accuracy                           0.83     12360\n",
      "   macro avg       0.84      0.83      0.83     12360\n",
      "weighted avg       0.84      0.83      0.83     12360\n",
      "\n"
     ]
    }
   ],
   "source": [
    "sv = SVC()\n",
    "sv.fit(X_train,y_train)\n",
    "y_pred = sv.predict(X_test)\n",
    "acc = classification_report(y_test,y_pred)\n",
    "print(acc)"
   ]
  },
  {
   "cell_type": "code",
   "execution_count": 31,
   "metadata": {},
   "outputs": [
    {
     "data": {
      "text/plain": [
       "array([[4758, 1373],\n",
       "       [ 701, 5528]], dtype=int64)"
      ]
     },
     "execution_count": 31,
     "metadata": {},
     "output_type": "execute_result"
    }
   ],
   "source": [
    "confusion_matrix(y_test,y_pred)"
   ]
  },
  {
   "cell_type": "code",
   "execution_count": 32,
   "metadata": {},
   "outputs": [
    {
     "name": "stdout",
     "output_type": "stream",
     "text": [
      "              precision    recall  f1-score   support\n",
      "\n",
      "           0       0.91      0.79      0.85      6131\n",
      "           1       0.82      0.93      0.87      6229\n",
      "\n",
      "    accuracy                           0.86     12360\n",
      "   macro avg       0.87      0.86      0.86     12360\n",
      "weighted avg       0.87      0.86      0.86     12360\n",
      "\n"
     ]
    }
   ],
   "source": [
    "knc = KNeighborsClassifier(n_neighbors=3)\n",
    "knc.fit(X_train,y_train)\n",
    "y_pred = knc.predict(X_test)\n",
    "acc = classification_report(y_test,y_pred)\n",
    "print(acc)"
   ]
  },
  {
   "cell_type": "code",
   "execution_count": 33,
   "metadata": {},
   "outputs": [
    {
     "data": {
      "text/plain": [
       "array([[4864, 1267],\n",
       "       [ 467, 5762]], dtype=int64)"
      ]
     },
     "execution_count": 33,
     "metadata": {},
     "output_type": "execute_result"
    }
   ],
   "source": [
    "confusion_matrix(y_test,y_pred)"
   ]
  },
  {
   "cell_type": "code",
   "execution_count": 34,
   "metadata": {},
   "outputs": [
    {
     "name": "stdout",
     "output_type": "stream",
     "text": [
      "              precision    recall  f1-score   support\n",
      "\n",
      "           0       0.77      0.78      0.77      6131\n",
      "           1       0.78      0.77      0.77      6229\n",
      "\n",
      "    accuracy                           0.77     12360\n",
      "   macro avg       0.77      0.77      0.77     12360\n",
      "weighted avg       0.77      0.77      0.77     12360\n",
      "\n"
     ]
    }
   ],
   "source": [
    "lr= LogisticRegression(random_state=1)\n",
    "lr.fit(X_train,y_train)\n",
    "y_pred = lr.predict(X_test)\n",
    "acc = classification_report(y_test,y_pred)\n",
    "print(acc)"
   ]
  },
  {
   "cell_type": "code",
   "execution_count": 35,
   "metadata": {},
   "outputs": [
    {
     "data": {
      "text/plain": [
       "array([[4783, 1348],\n",
       "       [1445, 4784]], dtype=int64)"
      ]
     },
     "execution_count": 35,
     "metadata": {},
     "output_type": "execute_result"
    }
   ],
   "source": [
    "confusion_matrix(y_test,y_pred)"
   ]
  },
  {
   "cell_type": "code",
   "execution_count": 36,
   "metadata": {},
   "outputs": [
    {
     "name": "stdout",
     "output_type": "stream",
     "text": [
      "              precision    recall  f1-score   support\n",
      "\n",
      "           0       0.84      0.82      0.83      6131\n",
      "           1       0.83      0.84      0.83      6229\n",
      "\n",
      "    accuracy                           0.83     12360\n",
      "   macro avg       0.83      0.83      0.83     12360\n",
      "weighted avg       0.83      0.83      0.83     12360\n",
      "\n"
     ]
    }
   ],
   "source": [
    "from sklearn.ensemble import AdaBoostClassifier\n",
    "abc = AdaBoostClassifier(random_state=1)\n",
    "abc.fit(X_train, y_train)\n",
    "y_pred = abc.predict(X_test)\n",
    "acc = classification_report(y_test,y_pred)\n",
    "print(acc)"
   ]
  },
  {
   "cell_type": "code",
   "execution_count": 37,
   "metadata": {},
   "outputs": [
    {
     "data": {
      "text/plain": [
       "array([[5024, 1107],\n",
       "       [ 979, 5250]], dtype=int64)"
      ]
     },
     "execution_count": 37,
     "metadata": {},
     "output_type": "execute_result"
    }
   ],
   "source": [
    "confusion_matrix(y_test,y_pred)"
   ]
  },
  {
   "cell_type": "code",
   "execution_count": 38,
   "metadata": {},
   "outputs": [
    {
     "name": "stdout",
     "output_type": "stream",
     "text": [
      "              precision    recall  f1-score   support\n",
      "\n",
      "           0       0.97      0.89      0.93      6131\n",
      "           1       0.90      0.98      0.94      6229\n",
      "\n",
      "    accuracy                           0.93     12360\n",
      "   macro avg       0.94      0.93      0.93     12360\n",
      "weighted avg       0.94      0.93      0.93     12360\n",
      "\n"
     ]
    }
   ],
   "source": [
    "rfc = RandomForestClassifier()\n",
    "rfc.fit(X_train,y_train)\n",
    "y_pred = rfc.predict(X_test)\n",
    "acc = classification_report(y_test,y_pred)\n",
    "print(acc)"
   ]
  },
  {
   "cell_type": "code",
   "execution_count": 39,
   "metadata": {},
   "outputs": [
    {
     "data": {
      "text/plain": [
       "array([[5442,  689],\n",
       "       [ 146, 6083]], dtype=int64)"
      ]
     },
     "execution_count": 39,
     "metadata": {},
     "output_type": "execute_result"
    }
   ],
   "source": [
    "confusion_matrix(y_test,y_pred)"
   ]
  },
  {
   "cell_type": "code",
   "execution_count": 40,
   "metadata": {},
   "outputs": [],
   "source": [
    "from sklearn.model_selection import cross_val_score"
   ]
  },
  {
   "cell_type": "code",
   "execution_count": 41,
   "metadata": {},
   "outputs": [
    {
     "name": "stdout",
     "output_type": "stream",
     "text": [
      "0.9184028122149218\n",
      "0.9347466439536994\n",
      "0.7691453165920532\n",
      "0.8284518415702617\n",
      "0.8617663804060316\n",
      "0.8299284933502624\n"
     ]
    }
   ],
   "source": [
    "print(cross_val_score(dtc,x_scaled,y,cv=5).mean())\n",
    "print(cross_val_score(rfc,x_scaled,y,cv=5).mean())\n",
    "print(cross_val_score(lr,x_scaled,y,cv=5).mean())\n",
    "print(cross_val_score(abc,x_scaled,y,cv=5).mean())\n",
    "print(cross_val_score(knc,x_scaled,y,cv=5).mean())\n",
    "print(cross_val_score(sv,x_scaled,y,cv=5).mean())"
   ]
  },
  {
   "cell_type": "code",
   "execution_count": 42,
   "metadata": {},
   "outputs": [
    {
     "data": {
      "image/png": "[encoded data removed]",
      "text/plain": [
       "<Figure size 432x288 with 1 Axes>"
      ]
     },
     "metadata": {
      "needs_background": "light"
     },
     "output_type": "display_data"
    },
    {
     "data": {
      "image/png": "[encoded data removed]",
      "text/plain": [
       "<Figure size 432x288 with 1 Axes>"
      ]
     },
     "metadata": {
      "needs_background": "light"
     },
     "output_type": "display_data"
    },
    {
     "data": {
      "image/png": "[encoded data removed]",
      "text/plain": [
       "<Figure size 432x288 with 1 Axes>"
      ]
     },
     "metadata": {
      "needs_background": "light"
     },
     "output_type": "display_data"
    },
    {
     "data": {
      "image/png": "[encoded data removed]",
      "text/plain": [
       "<Figure size 432x288 with 1 Axes>"
      ]
     },
     "metadata": {
      "needs_background": "light"
     },
     "output_type": "display_data"
    },
    {
     "data": {
      "image/png": "[encoded data removed]",
      "text/plain": [
       "<Figure size 432x288 with 1 Axes>"
      ]
     },
     "metadata": {
      "needs_background": "light"
     },
     "output_type": "display_data"
    },
    {
     "data": {
      "image/png": "[encoded data removed]",
      "text/plain": [
       "<Figure size 432x288 with 1 Axes>"
      ]
     },
     "metadata": {
      "needs_background": "light"
     },
     "output_type": "display_data"
    }
   ],
   "source": [
    "from sklearn import metrics\n",
    "\n",
    "models =[dtc,rfc,sv,knc,lr,abc]\n",
    "for i in models:\n",
    "    metrics.plot_roc_curve(i, X_test, y_test)  \n",
    "    plt.show()"
   ]
  },
  {
   "cell_type": "markdown",
   "metadata": {},
   "source": [
    "We can see that the Random Forest Classifier is the best model according to the metrics"
   ]
  },
  {
   "cell_type": "markdown",
   "metadata": {},
   "source": [
    "# Hyper parameter Tuning"
   ]
  },
  {
   "cell_type": "code",
   "execution_count": 46,
   "metadata": {},
   "outputs": [],
   "source": [
    "from sklearn.model_selection import GridSearchCV\n",
    "\n",
    "parameter = { \n",
    "            'max_depth' : np.arange(2,20),\n",
    "              'criterion':['gini', 'entropy'],\n",
    "             'max_features':['auto', 'sqrt', 'log2'],\n",
    "             }"
   ]
  },
  {
   "cell_type": "code",
   "execution_count": 48,
   "metadata": {},
   "outputs": [],
   "source": [
    "GCV = GridSearchCV(RandomForestClassifier(),parameter,cv=3)"
   ]
  },
  {
   "cell_type": "code",
   "execution_count": 49,
   "metadata": {},
   "outputs": [
    {
     "data": {
      "text/plain": [
       "GridSearchCV(cv=3, estimator=RandomForestClassifier(),\n",
       "             param_grid={'criterion': ['gini', 'entropy'],\n",
       "                         'max_depth': array([ 2,  3,  4,  5,  6,  7,  8,  9, 10, 11, 12, 13, 14, 15, 16, 17, 18,\n",
       "       19]),\n",
       "                         'max_features': ['auto', 'sqrt', 'log2']})"
      ]
     },
     "execution_count": 49,
     "metadata": {},
     "output_type": "execute_result"
    }
   ],
   "source": [
    "GCV.fit(X_train,y_train)"
   ]
  },
  {
   "cell_type": "code",
   "execution_count": 50,
   "metadata": {},
   "outputs": [
    {
     "data": {
      "text/plain": [
       "{'criterion': 'gini', 'max_depth': 19, 'max_features': 'auto'}"
      ]
     },
     "execution_count": 50,
     "metadata": {},
     "output_type": "execute_result"
    }
   ],
   "source": [
    "GCV.best_params_"
   ]
  },
  {
   "cell_type": "code",
   "execution_count": 51,
   "metadata": {},
   "outputs": [
    {
     "name": "stdout",
     "output_type": "stream",
     "text": [
      "90.69579288025889\n"
     ]
    }
   ],
   "source": [
    "Final_mod = RandomForestClassifier(criterion='gini',max_depth=19,max_features='sqrt')\n",
    "Final_mod.fit(X_train,y_train)\n",
    "pred = Final_mod.predict(X_test)\n",
    "acc = accuracy_score(y_test,pred)\n",
    "print(acc*100)"
   ]
  },
  {
   "cell_type": "code",
   "execution_count": 52,
   "metadata": {},
   "outputs": [
    {
     "data": {
      "text/plain": [
       "array([[5161,  970],\n",
       "       [ 180, 6049]], dtype=int64)"
      ]
     },
     "execution_count": 52,
     "metadata": {},
     "output_type": "execute_result"
    }
   ],
   "source": [
    "confusion_matrix(y_test,pred)"
   ]
  },
  {
   "cell_type": "code",
   "execution_count": 53,
   "metadata": {},
   "outputs": [
    {
     "data": {
      "image/png": "[encoded data removed]",
      "text/plain": [
       "<Figure size 432x288 with 1 Axes>"
      ]
     },
     "metadata": {
      "needs_background": "light"
     },
     "output_type": "display_data"
    }
   ],
   "source": [
    "metrics.plot_roc_curve(Final_mod, X_test, y_test)  \n",
    "plt.show()"
   ]
  },
  {
   "cell_type": "markdown",
   "metadata": {},
   "source": [
    "# Saving the model"
   ]
  },
  {
   "cell_type": "code",
   "execution_count": 54,
   "metadata": {},
   "outputs": [
    {
     "data": {
      "text/plain": [
       "['CensusIncome.pkl']"
      ]
     },
     "execution_count": 54,
     "metadata": {},
     "output_type": "execute_result"
    }
   ],
   "source": [
    "import joblib\n",
    "joblib.dump(Final_mod,\"CensusIncome.pkl\")"
   ]
  }
 ],
 "metadata": {
  "kernelspec": {
   "display_name": "Python 3",
   "language": "python",
   "name": "python3"
  },
  "language_info": {
   "codemirror_mode": {
    "name": "ipython",
    "version": 3
   },
   "file_extension": ".py",
   "mimetype": "text/x-python",
   "name": "python",
   "nbconvert_exporter": "python",
   "pygments_lexer": "ipython3",
   "version": "3.8.5"
  }
 },
 "nbformat": 4,
 "nbformat_minor": 4
}
